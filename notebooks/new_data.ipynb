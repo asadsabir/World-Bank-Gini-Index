{
 "cells": [
  {
   "cell_type": "code",
   "execution_count": null,
   "metadata": {},
   "outputs": [],
   "source": [
    "import pandas as pd\n",
    "import os"
   ]
  },
  {
   "cell_type": "code",
   "execution_count": null,
   "metadata": {},
   "outputs": [],
   "source": [
    "csv_paths = ['../data/raw/' + file for file in os.listdir('../data/raw/') if file.endswith('csv')] #read paths of all indicator csvs into list\n",
    "df = None\n",
    "flag = False\n",
    "\n",
    "for path in csv_paths: \n",
    "    \n",
    "    indicator_df = pd.read_csv(path,header=2).drop(['Unnamed: 67','Country Code','Indicator Code'],axis=1) #turn each indicator into dataframe  \n",
    "\n",
    "    indicator_df = pd.melt(indicator_df,id_vars=['Country Name','Indicator Name'],value_name=indicator_df['Indicator Name'][0],var_name='Year').drop('Indicator Name',axis=1) #melt indicator into one column\n",
    "\n",
    "    if flag:\n",
    "        df = pd.merge(left=df,right=indicator_df,on=['Country Name','Year'],how='outer') #join with other indicators\n",
    "    else:\n",
    "        df = indicator_df\n",
    "        flag = True"
   ]
  },
  {
   "cell_type": "code",
   "execution_count": null,
   "metadata": {},
   "outputs": [],
   "source": [
    "df.head()  #type: ignore"
   ]
  },
  {
   "cell_type": "code",
   "execution_count": null,
   "metadata": {},
   "outputs": [],
   "source": [
    "feature_names = ['Year',\n",
    " 'Educational attainment, at least completed lower secondary, population 25+, total (%) (cumulative)',\n",
    " 'Educational attainment, Doctoral or equivalent, population 25+, total (%) (cumulative)',\n",
    " 'Inflation, consumer prices (annual %)',\n",
    " 'GDP (current US$)',\n",
    " 'Cause of death, by injury (% of total)',\n",
    " \"Educational attainment, at least Master's or equivalent, population 25+, total (%) (cumulative)\",\n",
    " 'Educational attainment, at least completed short-cycle tertiary, population 25+, total (%) (cumulative)',\n",
    " 'Population, total',\n",
    " 'Unemployment, total (% of total labor force) (modeled ILO estimate)',\n",
    " 'Hospital beds (per 1,000 people)',\n",
    " 'Life expectancy at birth, total (years)',\n",
    " 'Physicians (per 1,000 people)',\n",
    " 'Country Name',\n",
    " 'Gini index'\n",
    " ]\n",
    "\n",
    "for col in df.columns: #type:ignore\n",
    "    if col.find('Poverty') > -1:\n",
    "        feature_names.append(col)\n",
    "\n",
    "df = df[feature_names] #type:ignore"
   ]
  },
  {
   "cell_type": "code",
   "execution_count": null,
   "metadata": {},
   "outputs": [],
   "source": [
    "df.head()"
   ]
  },
  {
   "cell_type": "code",
   "execution_count": null,
   "metadata": {},
   "outputs": [],
   "source": [
    "df['Country Name'] = df['Country Name'].astype('category')   #change country to category\n",
    "df['Year'] =  df['Year'].astype('Int64')   #change year to int"
   ]
  },
  {
   "cell_type": "code",
   "execution_count": null,
   "metadata": {},
   "outputs": [],
   "source": [
    "from copy import deepcopy\n",
    "\n",
    "gini = deepcopy(df[ ~df['Gini index'].isna()])\n",
    "\n",
    "# percentage of missing values for each column\n",
    "pd.Series([gini[col].isna().sum()/len(gini) for col in gini.columns],index=gini.columns).sort_values(ascending=False) "
   ]
  },
  {
   "cell_type": "code",
   "execution_count": null,
   "metadata": {},
   "outputs": [],
   "source": [
    "len(gini)"
   ]
  },
  {
   "cell_type": "code",
   "execution_count": null,
   "metadata": {},
   "outputs": [],
   "source": [
    "def interpolate(radius):\n",
    "    new_df = deepcopy(gini)\n",
    "\n",
    "    for col in new_df.columns:\n",
    "        if new_df[col].isna().sum() > 0 and not col in ['Country Name','Year']:\n",
    "            \n",
    "            to_impute = new_df[new_df[col].isna()]\n",
    "            for i in range(len(to_impute)):\n",
    "                country = to_impute['Country Name'].iloc[i]\n",
    "                year = to_impute['Year'].iloc[i]\n",
    "                surrounding = df[(df['Country Name'] == country) & ( abs(df['Year'] - year) <= radius)][col]\n",
    "                new_df.loc[(new_df['Year'] == year) & (new_df['Country Name'] == country),col] = surrounding.mean()\n",
    "                        \n",
    "    print(f'radius: {radius}')                        \n",
    "    return new_df"
   ]
  },
  {
   "cell_type": "code",
   "execution_count": null,
   "metadata": {},
   "outputs": [],
   "source": [
    "interpol_meta = {\n",
    "    'radius':[],\n",
    "    'size':[],\n",
    "    'countries':[],\n",
    "    'yearFrom':[],\n",
    "    'yearTo':[]\n",
    "}\n",
    "\n",
    "for rad in range(1,6):\n",
    "    rad_df = interpolate(rad).dropna()\n",
    "    #rad_df.to_csv(f'../data/interim/radius{rad}.csv')\n",
    "    interpol_meta['radius'].append(rad)\n",
    "    interpol_meta['size'].append(len(rad_df))\n",
    "    interpol_meta['countries'].append( len(rad_df['Country Name'].unique()) )\n",
    "    interpol_meta['yearFrom'].append(rad_df['Year'].min())\n",
    "    interpol_meta['yearTo'].append(rad_df['Year'].max())"
   ]
  },
  {
   "cell_type": "code",
   "execution_count": null,
   "metadata": {},
   "outputs": [],
   "source": [
    "pd.DataFrame(interpol_meta)"
   ]
  },
  {
   "cell_type": "code",
   "execution_count": null,
   "metadata": {},
   "outputs": [],
   "source": [
    "sample = interpolate(3).dropna()\n",
    "\n",
    "sample.head()"
   ]
  },
  {
   "cell_type": "code",
   "execution_count": null,
   "metadata": {},
   "outputs": [],
   "source": [
    "sample['Country Name'].unique().tolist() #list of countries kept"
   ]
  },
  {
   "cell_type": "code",
   "execution_count": null,
   "metadata": {},
   "outputs": [],
   "source": [
    "sample['GDP per capita'] = sample['GDP (current US$)']/sample['Population, total']\n",
    "\n",
    "sample.to_csv('../data/interim/radius3_selected_features.csv')"
   ]
  },
  {
   "cell_type": "code",
   "execution_count": null,
   "metadata": {},
   "outputs": [],
   "source": []
  }
 ],
 "metadata": {
  "kernelspec": {
   "display_name": "base",
   "language": "python",
   "name": "python3"
  },
  "language_info": {
   "codemirror_mode": {
    "name": "ipython",
    "version": 3
   },
   "file_extension": ".py",
   "mimetype": "text/x-python",
   "name": "python",
   "nbconvert_exporter": "python",
   "pygments_lexer": "ipython3",
   "version": "3.11.3"
  }
 },
 "nbformat": 4,
 "nbformat_minor": 2
}
