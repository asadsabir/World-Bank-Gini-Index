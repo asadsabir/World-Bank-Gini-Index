{
 "cells": [
  {
   "cell_type": "code",
   "execution_count": null,
   "metadata": {},
   "outputs": [],
   "source": [
    "import pandas as pd\n",
    "import matplotlib.pyplot as plt\n",
    "import seaborn as sns\n",
    "import numpy as np"
   ]
  },
  {
   "cell_type": "code",
   "execution_count": null,
   "metadata": {},
   "outputs": [],
   "source": [
    "#Importing Data\n",
    "\n",
    "df = pd.read_csv('../data/interim/radius3_selected_features.csv',index_col=[0])\n",
    "X = df.drop(['Gini index','Country Name'],axis=1).to_numpy()\n",
    "\n",
    "y = df['Gini index'].to_numpy()\n",
    "groups = df['Country Name'].to_numpy()\n",
    "\n",
    "\n",
    "#preprocessing pipeline\n",
    "from sklearn.preprocessing import StandardScaler\n",
    "from sklearn.compose import ColumnTransformer\n",
    "from sklearn.decomposition import PCA\n",
    "\n",
    "preprocess_steps = [('scaler',StandardScaler()),\n",
    "                    ('ct',ColumnTransformer([('pca',PCA(n_components=2),list(range(14,20)))],remainder='passthrough'))]\n",
    "\n",
    "\n",
    "#Setting up cross-validation\n",
    "from sklearn.model_selection import GroupKFold\n",
    "\n",
    "gkf = GroupKFold(n_splits=5)\n",
    "\n",
    "#Setting up model\n",
    "from xgboost import XGBRegressor\n",
    "from sklearn.pipeline import Pipeline\n",
    "\n",
    "params = {'reg_lambda': 1.2000000000000002,\n",
    " 'reg_alpha': 0.8,\n",
    " 'n_estimators': 135,\n",
    " 'max_depth': 3,\n",
    " 'learning_rate': 0.4}\n",
    "\n",
    "model = Pipeline(steps=preprocess_steps + [('xgb',XGBRegressor(**params))])\n",
    "\n",
    "\n",
    "#Feature Names\n",
    "columns = df.drop(['Country Name', 'Gini index'],axis=1).columns.to_list()\n",
    "feature_names = [col for col in columns if col.find('Poverty') < 0]\n",
    "\n",
    "feature_names = ['poverty_pca0','poverty_pca1'] + feature_names"
   ]
  },
  {
   "cell_type": "code",
   "execution_count": null,
   "metadata": {},
   "outputs": [],
   "source": [
    "df.head()"
   ]
  },
  {
   "cell_type": "code",
   "execution_count": null,
   "metadata": {},
   "outputs": [],
   "source": [
    "ct = ColumnTransformer([('pca',PCA(n_components=2),list(range(14,20)))],remainder='passthrough')\n",
    "\n",
    "Xt = ct.fit_transform(X)"
   ]
  },
  {
   "cell_type": "code",
   "execution_count": null,
   "metadata": {},
   "outputs": [],
   "source": [
    "ct.output_indices_"
   ]
  },
  {
   "cell_type": "code",
   "execution_count": null,
   "metadata": {},
   "outputs": [],
   "source": []
  }
 ],
 "metadata": {
  "kernelspec": {
   "display_name": "base",
   "language": "python",
   "name": "python3"
  },
  "language_info": {
   "codemirror_mode": {
    "name": "ipython",
    "version": 3
   },
   "file_extension": ".py",
   "mimetype": "text/x-python",
   "name": "python",
   "nbconvert_exporter": "python",
   "pygments_lexer": "ipython3",
   "version": "3.11.3"
  }
 },
 "nbformat": 4,
 "nbformat_minor": 2
}
